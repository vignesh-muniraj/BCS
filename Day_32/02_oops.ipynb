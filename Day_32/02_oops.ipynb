{
 "cells": [
  {
   "cell_type": "code",
   "execution_count": null,
   "id": "5e3e6efb",
   "metadata": {},
   "outputs": [],
   "source": [
    "class Car:\n",
    "    def __init__(self,wheels,engine,model,doors):\n",
    "        self.wheels = wheels\n",
    "        self.engine = engine\n",
    "        self.model = model\n",
    "        self.doors = doors\n",
    "print(\"Jeep🚙\")\n",
    "jeep = Car(4,'v6','Wrangler',5)\n",
    "tata = Car(4,'v4','Harrier',5)\n",
    "print(jeep.wheels)\n",
    "print(jeep.engine)\n",
    "print(jeep.model)\n",
    "print(jeep.doors)\n",
    "\n",
    "print(\"Tata🚗\")\n",
    "print(tata.wheels)\n",
    "print(tata.engine)\n",
    "print(tata.model)\n",
    "print(tata.doors)"
   ]
  },
  {
   "cell_type": "code",
   "execution_count": null,
   "id": "091c3c86",
   "metadata": {},
   "outputs": [
    {
     "name": "stdout",
     "output_type": "stream",
     "text": [
      "gopi\n",
      "viki\n",
      "bala\n"
     ]
    }
   ],
   "source": [
    "class Account:\n",
    "    def __init__(self,acc_no,name,balance):\n",
    "        self.acc_no = acc_no\n",
    "        self.name = name\n",
    "        self.balance = balance\n",
    "\n",
    "person_1 = Account(101,'gopi',1_00_00_000)        \n",
    "person_2 = Account(201,'viki',10_00_000)        \n",
    "person_3 = Account(301,'bala',50_00_000)    \n",
    "print(person_1.name)     \n",
    "print(person_2.name)\n",
    "print(person_3.name)\n",
    "      "
   ]
  },
  {
   "cell_type": "code",
   "execution_count": 12,
   "id": "c060f4fd",
   "metadata": {},
   "outputs": [
    {
     "name": "stdout",
     "output_type": "stream",
     "text": [
      " Your balance id : ₹10,000,000.00\n"
     ]
    }
   ],
   "source": [
    "# Pascal Case\n",
    "class Account:\n",
    "    def __init__(self, account_number, name, balance):\n",
    "        self.acc_no = account_number\n",
    "        self.name = name\n",
    "        self.balance = balance\n",
    "      \n",
    "    # Task 1.1 -> Your balance is: ₹10,000,000.00\n",
    "    def display_balance(self):\n",
    "        return  f\" Your balance id : ₹{self.balance:,.2f}\"\n",
    "        \n",
    "# Self -> Reference/Context variable\n",
    "gopi = Account(101, \"Gopika Hariharan\", 1_00_00_000) \n",
    "vikki = Account(102, \"Vignesh M\", 10_00_000)\n",
    "bala = Account(103, \"Bala Kumar\", 50_00_000)  \n",
    "\n",
    "print(gopi.display_balance())"
   ]
  }
 ],
 "metadata": {
  "kernelspec": {
   "display_name": "BCS",
   "language": "python",
   "name": "python3"
  },
  "language_info": {
   "codemirror_mode": {
    "name": "ipython",
    "version": 3
   },
   "file_extension": ".py",
   "mimetype": "text/x-python",
   "name": "python",
   "nbconvert_exporter": "python",
   "pygments_lexer": "ipython3",
   "version": "3.13.5"
  }
 },
 "nbformat": 4,
 "nbformat_minor": 5
}
