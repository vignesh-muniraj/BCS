{
 "cells": [
  {
   "cell_type": "code",
   "execution_count": null,
   "id": "a44af6da",
   "metadata": {},
   "outputs": [
    {
     "ename": "KeyError",
     "evalue": "'Italian Place'",
     "output_type": "error",
     "traceback": [
      "\u001b[31m---------------------------------------------------------------------------\u001b[39m",
      "\u001b[31mKeyError\u001b[39m                                  Traceback (most recent call last)",
      "\u001b[36mCell\u001b[39m\u001b[36m \u001b[39m\u001b[32mIn[4]\u001b[39m\u001b[32m, line 27\u001b[39m\n\u001b[32m     25\u001b[39m             affordable_items[menu[\u001b[33m'\u001b[39m\u001b[33mrestaurant\u001b[39m\u001b[33m'\u001b[39m]]\n\u001b[32m     26\u001b[39m     \u001b[38;5;28;01mreturn\u001b[39;00m affordable_items\n\u001b[32m---> \u001b[39m\u001b[32m27\u001b[39m \u001b[38;5;28mprint\u001b[39m(\u001b[43mget_affordable_items\u001b[49m\u001b[43m(\u001b[49m\u001b[43mrestaurant_menus\u001b[49m\u001b[43m)\u001b[49m)                 \n",
      "\u001b[36mCell\u001b[39m\u001b[36m \u001b[39m\u001b[32mIn[4]\u001b[39m\u001b[32m, line 25\u001b[39m, in \u001b[36mget_affordable_items\u001b[39m\u001b[34m(restaurant_menus)\u001b[39m\n\u001b[32m     22\u001b[39m affordable_items = {}\n\u001b[32m     23\u001b[39m \u001b[38;5;28;01mfor\u001b[39;00m menu \u001b[38;5;129;01min\u001b[39;00m restaurant_menus:\n\u001b[32m     24\u001b[39m         \u001b[38;5;66;03m# print(menu['restaurant'])\u001b[39;00m\n\u001b[32m---> \u001b[39m\u001b[32m25\u001b[39m         \u001b[43maffordable_items\u001b[49m\u001b[43m[\u001b[49m\u001b[43mmenu\u001b[49m\u001b[43m[\u001b[49m\u001b[33;43m'\u001b[39;49m\u001b[33;43mrestaurant\u001b[39;49m\u001b[33;43m'\u001b[39;49m\u001b[43m]\u001b[49m\u001b[43m]\u001b[49m\n\u001b[32m     26\u001b[39m \u001b[38;5;28;01mreturn\u001b[39;00m affordable_items\n",
      "\u001b[31mKeyError\u001b[39m: 'Italian Place'"
     ]
    }
   ],
   "source": [
    "# Task 1 (Challenging)\n",
    "# Use nested dictionary comprehension to create a dictionary of restaurants with items under $10\n",
    "\n",
    "# Restaurant menus with emoji food items and prices\n",
    "restaurant_menus = [\n",
    "    {\"restaurant\": \"Italian Place\", \"menu\": {\"🍕\": 12.99, \"🍝\": 10.99, \"🥖\": 3.99, \"🥗\": 7.99}},\n",
    "    {\"restaurant\": \"Burger Joint\", \"menu\": {\"🍔\": 8.99, \"🍟\": 3.99, \"🥤\": 1.99, \"🍦\": 4.99}},\n",
    "    {\"restaurant\": \"Sushi Bar\", \"menu\": {\"🍣\": 15.99, \"🍜\": 12.99, \"🍙\": 6.99, \"🍶\": 9.99}},\n",
    "    {\"restaurant\": \"Health Spot\", \"menu\": {\"🥗\": 9.99, \"🥙\": 8.99, \"🥑\": 4.99, \"🥝\": 3.99}},\n",
    "]\n",
    "\n",
    "\n",
    "# Expected output\n",
    "# Output\n",
    "# {\n",
    "#     'Italian Place': {'🥖': 3.99, '🥗': 7.99},\n",
    "#     'Burger Joint': {'🍔': 8.99, '🍟': 3.99, '🥤': 1.99, '🍦': 4.99},\n",
    "#     'Sushi Bar': {'🍙': 6.99},\n",
    "#     'Health Spot': {'🥙': 8.99, '🥑': 4.99, '🥝': 3.99}\n",
    "# }\n",
    "def get_affordable_items(restaurant_menus):\n",
    "    affordable_items = {}\n",
    "    for menu in restaurant_menus:\n",
    "            print(menu['restaurant'])\n",
    "    return affordable_items\n",
    "print(get_affordable_items(restaurant_menus))                 "
   ]
  },
  {
   "cell_type": "markdown",
   "id": "21138f71",
   "metadata": {},
   "source": [
    "## Task 1.1: Filtered Employee ID to Age Mapping\n",
    "From the same list of employee dictionaries, create a dictionary mapping employee IDs to ages, but only include those over 28.\n",
    "\n",
    "Expected Output:\n",
    "\n",
    "{101: 30, 103: 35}\n",
    "\n",
    "\n",
    "employees = [\n",
    "    {\"id\": 101, \"name\": \"Alice\", \"age\": 30},\n",
    "    {\"id\": 102, \"name\": \"Bob\", \"age\": 25},\n",
    "    {\"id\": 103, \"name\": \"Charlie\", \"age\": 35}\n",
    "]"
   ]
  },
  {
   "cell_type": "code",
   "execution_count": 4,
   "id": "e8b00191",
   "metadata": {},
   "outputs": [
    {
     "name": "stdout",
     "output_type": "stream",
     "text": [
      "{101: 30, 103: 35}\n"
     ]
    }
   ],
   "source": [
    "employees = [\n",
    "    {\"id\": 101, \"name\": \"Alice\", \"age\": 30},\n",
    "    {\"id\": 102, \"name\": \"Bob\", \"age\": 25},\n",
    "    {\"id\": 103, \"name\": \"Charlie\", \"age\": 35}\n",
    "]\n",
    "def employee_details(employees):\n",
    "    age_order = {}\n",
    "    for employee in employees:\n",
    "        if employee['age'] >= 28:\n",
    "            age_order[employee['id']] = employee['age']\n",
    "    return age_order        \n",
    "\n",
    "print(employee_details(employees))"
   ]
  },
  {
   "cell_type": "code",
   "execution_count": null,
   "id": "0164eb03",
   "metadata": {},
   "outputs": [
    {
     "name": "stdout",
     "output_type": "stream",
     "text": [
      "{101: 30, 103: 35}\n"
     ]
    }
   ],
   "source": [
    "employees = [\n",
    "    {\"id\": 101, \"name\": \"Alice\", \"age\": 30},\n",
    "    {\"id\": 102, \"name\": \"Bob\", \"age\": 25},\n",
    "    {\"id\": 103, \"name\": \"Charlie\", \"age\": 35}\n",
    "]\n",
    "def employee_details(employees):\n",
    "    age_order = {employee['id'] : employee['age'] for employee in employees  if employee['age'] >= 28}   \n",
    "    return age_order        \n",
    "\n",
    "print(employee_details(employees))"
   ]
  },
  {
   "cell_type": "markdown",
   "id": "ecfe091f",
   "metadata": {},
   "source": [
    "Task 1.3: Filtering Fruits by Price\n",
    "Given a dictionary of fruits with their prices, filter it to include only fruits priced above 2.\n",
    "\n",
    "fruits = {'apple': 1.2, 'banana': 2.5, 'orange': 3.0, 'kiwi': 4.0}\n",
    "Expected Output:\n",
    "\n",
    "{'banana': 2.5, 'orange': 3.0, 'kiwi': 4.0}"
   ]
  },
  {
   "cell_type": "code",
   "execution_count": 21,
   "id": "f900f5bc",
   "metadata": {},
   "outputs": [
    {
     "name": "stdout",
     "output_type": "stream",
     "text": [
      "{'banana': 2.5, 'orange': 3.0, 'kiwi': 4.0}\n"
     ]
    }
   ],
   "source": [
    "fruits = {'apple': 1.2, 'banana': 2.5, 'orange': 3.0, 'kiwi': 4.0}\n",
    "def filtered_fruits(fruits):\n",
    "    fruits_price ={}\n",
    "    for key,value in fruits.items():\n",
    "        if value >= 2:\n",
    "            fruits_price[key]= value\n",
    "    return fruits_price\n",
    "\n",
    "print(filtered_fruits(fruits))"
   ]
  },
  {
   "cell_type": "code",
   "execution_count": 19,
   "id": "c76402e6",
   "metadata": {},
   "outputs": [
    {
     "name": "stdout",
     "output_type": "stream",
     "text": [
      "{'banana': 2.5, 'orange': 3.0, 'kiwi': 4.0}\n"
     ]
    }
   ],
   "source": [
    "fruits = {'apple': 1.2, 'banana': 2.5, 'orange': 3.0, 'kiwi': 4.0}\n",
    "def filtered_fruits(fruits):\n",
    "    return {key:value for key,value in fruits.items() if value >= 2}\n",
    "        \n",
    "\n",
    "print(filtered_fruits(fruits))"
   ]
  },
  {
   "cell_type": "markdown",
   "id": "ae112ad8",
   "metadata": {},
   "source": [
    "Task 1.3: Odd/Even Classification\n",
    "Create a dictionary where keys are numbers from 1 to 10 and values are strings indicating whether the number is 'odd' or 'even'.\n",
    "\n",
    "Clue: Ternary operator\n",
    "\n",
    "Expected Output:\n",
    "\n",
    "{1: 'odd', 2: 'even', 3: 'odd', 4: 'even', 5: 'odd', 6: 'even', 7: 'odd', 8: 'even', 9: 'odd', 10: 'even'}"
   ]
  },
  {
   "cell_type": "code",
   "execution_count": null,
   "id": "cc9cbdee",
   "metadata": {},
   "outputs": [
    {
     "name": "stdout",
     "output_type": "stream",
     "text": [
      "{1: 'odd', 2: 'even', 3: 'odd', 4: 'even', 5: 'odd', 6: 'even', 7: 'odd', 8: 'even', 9: 'odd', 10: 'even'}\n"
     ]
    }
   ],
   "source": [
    "def odd_even(a,b):\n",
    "    return {i : \"even\" if i%2==0 else \"odd\"  for i in range(a,b)}\n",
    "print(odd_even(1,11))"
   ]
  },
  {
   "cell_type": "code",
   "execution_count": 27,
   "id": "d7fa6de8",
   "metadata": {},
   "outputs": [
    {
     "name": "stdout",
     "output_type": "stream",
     "text": [
      "{1: 'odd', 2: 'even', 3: 'odd', 4: 'even', 5: 'odd', 6: 'even', 7: 'odd', 8: 'even', 9: 'odd', 10: 'even'}\n"
     ]
    }
   ],
   "source": [
    "def odd_even(a,b):\n",
    "    res = {}\n",
    "    for i in range(a,b):\n",
    "        if i%2 ==0:\n",
    "            res[i]= \"even\"\n",
    "        else:\n",
    "            res[i]= \"odd\"\n",
    "    return res\n",
    "print(odd_even(1,11))"
   ]
  },
  {
   "cell_type": "code",
   "execution_count": 33,
   "id": "82a04f1b",
   "metadata": {},
   "outputs": [
    {
     "name": "stdout",
     "output_type": "stream",
     "text": [
      "7\n"
     ]
    }
   ],
   "source": [
    "import math\n",
    "print(math.floor(7.95))"
   ]
  }
 ],
 "metadata": {
  "kernelspec": {
   "display_name": "BCS",
   "language": "python",
   "name": "python3"
  },
  "language_info": {
   "codemirror_mode": {
    "name": "ipython",
    "version": 3
   },
   "file_extension": ".py",
   "mimetype": "text/x-python",
   "name": "python",
   "nbconvert_exporter": "python",
   "pygments_lexer": "ipython3",
   "version": "3.13.5"
  }
 },
 "nbformat": 4,
 "nbformat_minor": 5
}
