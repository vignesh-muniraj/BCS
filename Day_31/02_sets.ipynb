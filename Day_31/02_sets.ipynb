{
 "cells": [
  {
   "cell_type": "code",
   "execution_count": null,
   "id": "baaccd59",
   "metadata": {},
   "outputs": [
    {
     "name": "stdout",
     "output_type": "stream",
     "text": [
      "{'📱 Tablet', '💻 Laptop', '🤳 Selfie stick', '🛸 Drone', '📱 Smartphone', '⌚ Smartwatch'}\n"
     ]
    }
   ],
   "source": [
    "tech_gadgets = {'📱 Smartphone', '💻 Laptop', '⌚ Smartwatch', '📱 Tablet', '📱 Tablet'}\n",
    "\n",
    "# tech_gadgets.add('📚 E-reader')\n",
    "\n",
    "\n",
    "more_gadgets = ['🛸 Drone', '🤳 Selfie stick']\n",
    "\n",
    "# x = set()\n",
    "# x.update(tech_gadgets)\n",
    "# x.update(more_gadgets)\n",
    "# print(x)\n",
    "\n",
    "tech_gadgets.update(more_gadgets)\n",
    "print(tech_gadgets)"
   ]
  }
 ],
 "metadata": {
  "kernelspec": {
   "display_name": "BCS",
   "language": "python",
   "name": "python3"
  },
  "language_info": {
   "codemirror_mode": {
    "name": "ipython",
    "version": 3
   },
   "file_extension": ".py",
   "mimetype": "text/x-python",
   "name": "python",
   "nbconvert_exporter": "python",
   "pygments_lexer": "ipython3",
   "version": "3.13.5"
  }
 },
 "nbformat": 4,
 "nbformat_minor": 5
}
