{
 "cells": [
  {
   "cell_type": "code",
   "execution_count": null,
   "id": "2a153f0c",
   "metadata": {},
   "outputs": [],
   "source": [
    "heroes = [\n",
    "    {\n",
    "        \"name\": \"Steve Rogers\",\n",
    "        \"age\": 100,\n",
    "        \"height\": 185,\n",
    "        \"address\": {\"city\": \"Brooklyn\", \"country\": \"US\"},\n",
    "    },\n",
    "    {\n",
    "        \"name\": \"Peter Parker\",\n",
    "        \"age\": 18,\n",
    "        \"team_name\": \"Avengers\",\n",
    "        \"team\": [\"Iron Man\", \"Thor\", \"Hulk\", \"Captain America\"],\n",
    "    },\n",
    "    {\n",
    "        \"name\": \"Bruce Banner\",\n",
    "        \"age\": 35,\n",
    "    },\n",
    "]\n",
    "\n",
    "# Output\n",
    "# Steve Rogers 🦸‍♂️ lives in Brooklyn\n",
    "# Peter Parker location is Top Secret 🔒"
   ]
  },
  {
   "cell_type": "code",
   "execution_count": null,
   "id": "162ab7c7",
   "metadata": {},
   "outputs": [],
   "source": [
    "for hero in heroes:\n",
    "    if hero.get('address',{}).get('city'):\n",
    "     print(f\"{hero.get('name')} lives is  {hero.get('address',{}).get('city','Top Secret 🔒')}\")    \n",
    "    else:\n",
    "     print(f\"{hero.get('name')} location is  {hero.get('address',{}).get('city','Top Secret 🔒')}\")    \n",
    "       "
   ]
  },
  {
   "cell_type": "code",
   "execution_count": null,
   "id": "1ba66bc2",
   "metadata": {},
   "outputs": [],
   "source": [
    "for hero in heroes:\n",
    "    upd_city = hero.get('address',{}).get('city')\n",
    "    if upd_city:\n",
    "     print(f\"{hero.get('name')} lives is  {upd_city}\")    \n",
    "    else:\n",
    "     print(f\"{hero.get('name')} location is Top Secret 🔒 \")  "
   ]
  },
  {
   "cell_type": "code",
   "execution_count": null,
   "id": "22dc7f5f",
   "metadata": {},
   "outputs": [],
   "source": [
    "employees = [\n",
    "    {\"name\": \"Chelo\", \"experience\": 2},\n",
    "    {\n",
    "        \"name\": \"Diyali\",\n",
    "    },\n",
    "    {\n",
    "        \"name\": \"Luvuyo\",\n",
    "    },\n",
    "    {\"name\": \"Jevan\", \"experience\": 1},\n",
    "]\n",
    "\n",
    "\n",
    "    \n",
    "# print(employees)\n",
    "\n",
    "# Output\n",
    "# [{'name': 'Chelo', 'experience': 3},\n",
    "#  {'name': 'Diyali', 'experience': 1},\n",
    "#  {'name': 'Luvuyo', 'experience': 1},\n",
    "#  {'name': 'Jevan', 'experience': 2}]\n",
    "\n",
    "for employee in employees:\n",
    "    # name = employee.get('name')\n",
    "    employee['experience'] = employee.get('experience',0) +1\n",
    "    print(employee)"
   ]
  },
  {
   "cell_type": "code",
   "execution_count": null,
   "id": "8383a759",
   "metadata": {},
   "outputs": [],
   "source": [
    "inventory = [\n",
    "    {\"name\": \"Apple 🍎\", \"quantity\": 30, \"price\": 0.50},\n",
    "    {\"name\": \"Banana 🍌\", \"quantity\": 20, \"price\": 0.20},\n",
    "]\n",
    "\n",
    "confirm = True\n",
    "while confirm:\n",
    "    product = input(\"What is the product name? \")\n",
    "    quantity = input(\"What is the quantity? \")\n",
    "    price = input(\"What is the price? \")\n",
    "    \n",
    "    inventory.append( {\n",
    "    'name' : product,\n",
    "    'quantity' :quantity,\n",
    "    'price' : price\n",
    "   })\n",
    "    next_process = input(\"Would you like add another product? (Y/N)\").upper()\n",
    "    print(inventory)    \n",
    "    if next_process != 'Y':\n",
    "        confirm = False\n",
    "        print(\"Bye 😉\")"
   ]
  }
 ],
 "metadata": {
  "kernelspec": {
   "display_name": "BCS",
   "language": "python",
   "name": "python3"
  },
  "language_info": {
   "codemirror_mode": {
    "name": "ipython",
    "version": 3
   },
   "file_extension": ".py",
   "mimetype": "text/x-python",
   "name": "python",
   "nbconvert_exporter": "python",
   "pygments_lexer": "ipython3",
   "version": "3.13.5"
  }
 },
 "nbformat": 4,
 "nbformat_minor": 5
}
