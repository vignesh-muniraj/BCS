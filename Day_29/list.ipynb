{
 "cells": [
  {
   "cell_type": "markdown",
   "id": "c83fc480",
   "metadata": {},
   "source": [
    "# List"
   ]
  },
  {
   "cell_type": "code",
   "execution_count": null,
   "id": "a45f0b06",
   "metadata": {},
   "outputs": [],
   "source": [
    "marks = [10,20,30,40,50,58]\n",
    "print(marks)\n",
    "print(marks[1])\n",
    "print(type(marks))"
   ]
  }
 ],
 "metadata": {
  "kernelspec": {
   "display_name": "BCS",
   "language": "python",
   "name": "python3"
  },
  "language_info": {
   "codemirror_mode": {
    "name": "ipython",
    "version": 3
   },
   "file_extension": ".py",
   "mimetype": "text/x-python",
   "name": "python",
   "nbconvert_exporter": "python",
   "pygments_lexer": "ipython3",
   "version": "3.13.5"
  }
 },
 "nbformat": 4,
 "nbformat_minor": 5
}
