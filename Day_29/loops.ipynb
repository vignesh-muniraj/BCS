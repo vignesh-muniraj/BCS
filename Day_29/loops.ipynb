{
 "cells": [
  {
   "cell_type": "markdown",
   "id": "d8c4792e",
   "metadata": {},
   "source": [
    "# for loop"
   ]
  },
  {
   "cell_type": "code",
   "execution_count": null,
   "id": "79856586",
   "metadata": {},
   "outputs": [],
   "source": [
    "for i in range(0,5):\n",
    "    print(\"🍎 Apple\", i)\n"
   ]
  },
  {
   "cell_type": "markdown",
   "id": "a93200ca",
   "metadata": {},
   "source": [
    "# While loop"
   ]
  },
  {
   "cell_type": "code",
   "execution_count": null,
   "id": "876480ff",
   "metadata": {},
   "outputs": [],
   "source": [
    "count = 0\n",
    "while count <= 5:\n",
    "    count += 1\n",
    "    if count == 3:\n",
    "        continue\n",
    "    if count == 5:\n",
    "        break\n",
    "    print(\"⭐ Star\", count)\n",
    "    "
   ]
  }
 ],
 "metadata": {
  "kernelspec": {
   "display_name": "Python 3",
   "language": "python",
   "name": "python3"
  },
  "language_info": {
   "codemirror_mode": {
    "name": "ipython",
    "version": 3
   },
   "file_extension": ".py",
   "mimetype": "text/x-python",
   "name": "python",
   "nbconvert_exporter": "python",
   "pygments_lexer": "ipython3",
   "version": "3.13.5"
  }
 },
 "nbformat": 4,
 "nbformat_minor": 5
}
