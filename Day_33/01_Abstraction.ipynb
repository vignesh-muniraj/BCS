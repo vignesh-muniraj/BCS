{
 "cells": [
  {
   "cell_type": "code",
   "execution_count": 9,
   "id": "e5de9ff0",
   "metadata": {},
   "outputs": [
    {
     "name": "stdout",
     "output_type": "stream",
     "text": [
      " Your balance is : ₹1,000,000.00\n",
      "succesfully interest rate updated\n",
      "Success! After adding Intrest, Your balance is : ₹1,040,000.00\n",
      " Total Accounts = 3\n"
     ]
    }
   ],
   "source": [
    "# Pascal Case\n",
    "class Account:\n",
    "    interest_rate = 0\n",
    "    no_of_accounts= 0\n",
    "    def __init__(self, account_number, name, balance):\n",
    "        self.acc_no = account_number\n",
    "        self.name = name\n",
    "        self.balance = balance\n",
    "        Account.no_of_accounts +=1\n",
    "       \n",
    "    # Task 1.1 -> Your balance is: ₹10,000,000.00\n",
    "    def display_balance(self):\n",
    "        return  f\" Your balance is : ₹{self.balance:,.2f}\"\n",
    "        \n",
    "    #withdraw\n",
    "    def withdraw(self,withdraw_amount):\n",
    "        if withdraw_amount > self.balance:\n",
    "            return f\"Insufficient funds. {self.display_balance()}\"\n",
    "        elif withdraw_amount < 100:\n",
    "            return \"Invalid amount\"\n",
    "        self.balance= self.balance - withdraw_amount\n",
    "        return  f\" Success!! After Withdraw,{self.display_balance()}\"  \n",
    "    \n",
    "    #deposit\n",
    "    def deposit(self,amount):\n",
    "     if amount <= 0:\n",
    "         return \"Invalid Amount\"\n",
    "     self.balance = self.balance + amount\n",
    "    \n",
    "    # Intrest\n",
    "    def apply_interest(self):\n",
    "        self.balance = self.balance + (self.balance * Account.interest_rate) /100\n",
    "        return f\"Success! After adding Intrest,{self.display_balance()}\"\n",
    "    \n",
    "    # update Intrest rate\n",
    "    @classmethod\n",
    "    def update_interest(cls,rate):\n",
    "        if rate < 0 or rate > 100:\n",
    "            return \"Invalid Intrest Rate\"\n",
    "        else:\n",
    "         Account.interest_rate = rate\n",
    "         return \"succesfully interest rate updated\"\n",
    "        \n",
    "    # total accounts\n",
    "    @staticmethod\n",
    "    def get_total_no_accounts():\n",
    "        return f\" Total Accounts = {Account.no_of_accounts}\"\n",
    "\n",
    "# Self -> Reference/Context variable\n",
    "gopi = Account(101, \"Gopika Hariharan\", 1_00_00_000) \n",
    "vikki = Account(102, \"Vignesh M\", 10_00_000)\n",
    "bala = Account(103, \"Bala Kumar\", 50_00_000)  \n",
    "\n",
    "# print(vikki.deposit(2_00_000))\n",
    "# print(vikki.withdraw(1_00_000))\n",
    "print(vikki.display_balance())\n",
    "print(vikki.update_interest(4))\n",
    "print(vikki.apply_interest())\n",
    "print(Account.get_total_no_accounts())\n"
   ]
  },
  {
   "cell_type": "code",
   "execution_count": 27,
   "id": "90019b55",
   "metadata": {},
   "outputs": [],
   "source": [
    "class SavingsAccount(Account):\n",
    "    interest_rate = 10\n",
    "    def apply_interest(self):\n",
    "        self.balance = self.balance + (self.balance * SavingsAccount.interest_rate) /100\n",
    "        return f\"Success! After adding Intrest,{self.display_balance()}\"  \n"
   ]
  },
  {
   "cell_type": "code",
   "execution_count": 23,
   "id": "eb07768a",
   "metadata": {},
   "outputs": [],
   "source": [
    "class CheckingAccount(Account):\n",
    "    interest_rate = 5\n",
    "    extra_amount = 10\n",
    "    def apply_interest(self):\n",
    "        self.balance = self.balance + (self.balance * CheckingAccount.interest_rate) /100\n",
    "        return f\"Success! After adding Intrest,{self.display_balance()}\" \n",
    "    \n",
    "    def withdraw(self,withdraw_amount):\n",
    "        if withdraw_amount > self.balance:\n",
    "            return f\"Insufficient funds. {self.display_balance()}\"\n",
    "        elif withdraw_amount < 100:\n",
    "            return \"Invalid amount\"\n",
    "        self.balance= (self.balance - withdraw_amount) - CheckingAccount.extra_amount\n",
    "        return  f\" Success!! After Withdraw,{self.display_balance()}\"   "
   ]
  },
  {
   "cell_type": "code",
   "execution_count": 26,
   "id": "7be5c69e",
   "metadata": {},
   "outputs": [
    {
     "name": "stdout",
     "output_type": "stream",
     "text": [
      "Success! After adding Intrest, Your balance is : ₹6,600,000.00\n",
      " Your balance is : ₹6,600,000.00\n",
      "Success! After adding Intrest, Your balance is : ₹14,233,118.12\n",
      " Your balance is : ₹6,600,000.00\n",
      "Veera\n",
      "Success! After adding Intrest, Your balance is : ₹1,050,000.00\n",
      " Your balance is : ₹1,050,000.00\n",
      " Success!! After Withdraw, Your balance is : ₹949,990.00\n"
     ]
    }
   ],
   "source": [
    "muthu = SavingsAccount(104, \"Muthu Kumar\", 60_00_000)\n",
    "print(muthu.apply_interest())\n",
    "print(muthu.display_balance())\n",
    "\n",
    "print(gopi.apply_interest())\n",
    "print(muthu.display_balance())\n",
    "\n",
    "veera = CheckingAccount(105, \"Veeramani\", 10_00_000)\n",
    "print(\"Veera\")\n",
    "print(veera.apply_interest())\n",
    "print(veera.display_balance())\n",
    "print(veera.withdraw(10_00_00))"
   ]
  }
 ],
 "metadata": {
  "kernelspec": {
   "display_name": "BCS",
   "language": "python",
   "name": "python3"
  },
  "language_info": {
   "codemirror_mode": {
    "name": "ipython",
    "version": 3
   },
   "file_extension": ".py",
   "mimetype": "text/x-python",
   "name": "python",
   "nbconvert_exporter": "python",
   "pygments_lexer": "ipython3",
   "version": "3.13.5"
  }
 },
 "nbformat": 4,
 "nbformat_minor": 5
}
