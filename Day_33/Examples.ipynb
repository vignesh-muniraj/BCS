{
 "cells": [
  {
   "cell_type": "markdown",
   "id": "0c57759a",
   "metadata": {},
   "source": [
    "# Inheritance"
   ]
  },
  {
   "cell_type": "code",
   "execution_count": 10,
   "id": "1e910a23",
   "metadata": {},
   "outputs": [
    {
     "name": "stdout",
     "output_type": "stream",
     "text": [
      "Generic ModelX\n",
      "Toyota Corolla - Fuel: Petrol\n"
     ]
    }
   ],
   "source": [
    "# Parent Class (Base Class)\n",
    "class Vehicle:\n",
    "    def __init__(self, brand, model):\n",
    "        self.brand = brand\n",
    "        self.model = model\n",
    "    \n",
    "    def display_info(self):\n",
    "        return f\"{self.brand} {self.model}\"\n",
    "\n",
    "# Child Class (Derived Class)\n",
    "class Car(Vehicle):\n",
    "    def __init__(self, brand, model, fuel_type):\n",
    "        # Call parent constructor\n",
    "        super().__init__(brand, model)\n",
    "        self.fuel_type = fuel_type\n",
    "    \n",
    "    def display_details(self):\n",
    "        return f\"{self.display_info()} - Fuel: {self.fuel_type}\"\n",
    "\n",
    "\n",
    "v1 = Vehicle(\"Generic\", \"ModelX\")\n",
    "print(v1.display_info())    \n",
    "\n",
    "c1 = Car(\"Toyota\", \"Corolla\", \"Petrol\")\n",
    "print(c1.display_details()) \n"
   ]
  },
  {
   "cell_type": "markdown",
   "id": "e8b59851",
   "metadata": {},
   "source": [
    "# Polymorphism"
   ]
  },
  {
   "cell_type": "code",
   "execution_count": 15,
   "id": "75bdc5b6",
   "metadata": {},
   "outputs": [
    {
     "name": "stdout",
     "output_type": "stream",
     "text": [
      "This animal makes a sound\n",
      "Cute Jimmy says Woof! Woof!\n",
      "Cute Toomy says Meow!\n"
     ]
    }
   ],
   "source": [
    "class Animal:\n",
    "    def __init__(self, name):\n",
    "        self.name = \"Cute \" + name\n",
    "\n",
    "    def speak(self):\n",
    "        return \"This animal makes a sound\"\n",
    "\n",
    "    def speak1(self):\n",
    "        return \"This animal makes a sound\"\n",
    "\n",
    "class Dog(Animal):\n",
    "    def __init__(self, name, height):\n",
    "        # self.name = name\n",
    "        super().__init__(name)\n",
    "        self.height = height\n",
    "\n",
    "    def speak(self):\n",
    "        super().speak()\n",
    "        # self.speak1()\n",
    "        return f\"{self.name} says Woof! Woof!\"\n",
    "\n",
    "class Cat(Animal):\n",
    "    # def __init__(self, name):\n",
    "    #     self.name = name\n",
    "\n",
    "    def speak(self):\n",
    "        return f\"{self.name} says Meow!\"\n",
    "\n",
    "# Create objects\n",
    "a = Animal(\"Toby\")\n",
    "dog = Dog(\"Jimmy\", 30)\n",
    "cat = Cat(\"Toomy\")\n",
    "\n",
    "dog.name\n",
    "\n",
    "print(a.speak())  \n",
    "print(dog.speak())  \n",
    "print(cat.speak())  \n"
   ]
  }
 ],
 "metadata": {
  "kernelspec": {
   "display_name": "BCS",
   "language": "python",
   "name": "python3"
  },
  "language_info": {
   "codemirror_mode": {
    "name": "ipython",
    "version": 3
   },
   "file_extension": ".py",
   "mimetype": "text/x-python",
   "name": "python",
   "nbconvert_exporter": "python",
   "pygments_lexer": "ipython3",
   "version": "3.13.5"
  }
 },
 "nbformat": 4,
 "nbformat_minor": 5
}
