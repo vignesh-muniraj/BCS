{
 "cells": [
  {
   "cell_type": "code",
   "execution_count": null,
   "id": "e5de9ff0",
   "metadata": {},
   "outputs": [
    {
     "name": "stdout",
     "output_type": "stream",
     "text": [
      " Success!! After Withdraw, Your balance is : ₹900,000.00\n",
      " Your balance is : ₹900,000.00\n"
     ]
    }
   ],
   "source": [
    "# Pascal Case\n",
    "class Account:\n",
    "    def __init__(self, account_number, name, balance):\n",
    "        self.acc_no = account_number\n",
    "        self.name = name\n",
    "        self.balance = balance\n",
    "      \n",
    "    # Task 1.1 -> Your balance is: ₹10,000,000.00\n",
    "    def display_balance(self):\n",
    "        return  f\" Your balance is : ₹{self.balance:,.2f}\"\n",
    "        \n",
    "    #withdraw\n",
    "    def withdraw(self,withdraw_amount):\n",
    "        if withdraw_amount > self.balance:\n",
    "            return f\"Insufficient funds. {self.display_balance()}\"\n",
    "        elif withdraw_amount < 100:\n",
    "            return \"Invalid amount\"\n",
    "        self.balance= self.balance - withdraw_amount\n",
    "        return  f\" Success!! After Withdraw,{self.display_balance()}\"  \n",
    "    \n",
    "    #deposit\n",
    "    def deposit(self,amount):\n",
    "     if amount <= 0:\n",
    "         return \"Invalid Amount\"\n",
    "     self.balance = self.balance + amount\n",
    "\n",
    "# Self -> Reference/Context variable\n",
    "gopi = Account(101, \"Gopika Hariharan\", 1_00_00_000) \n",
    "vikki = Account(102, \"Vignesh M\", 10_00_000)\n",
    "bala = Account(103, \"Bala Kumar\", 50_00_000)  \n",
    "\n",
    "print(vikki.withdraw(1_00_000))\n",
    "print(vikki.display_balance())"
   ]
  }
 ],
 "metadata": {
  "kernelspec": {
   "display_name": "BCS",
   "language": "python",
   "name": "python3"
  },
  "language_info": {
   "codemirror_mode": {
    "name": "ipython",
    "version": 3
   },
   "file_extension": ".py",
   "mimetype": "text/x-python",
   "name": "python",
   "nbconvert_exporter": "python",
   "pygments_lexer": "ipython3",
   "version": "3.13.5"
  }
 },
 "nbformat": 4,
 "nbformat_minor": 5
}
