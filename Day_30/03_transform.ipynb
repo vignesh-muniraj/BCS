{
 "cells": [
  {
   "cell_type": "code",
   "execution_count": null,
   "id": "f198160e",
   "metadata": {},
   "outputs": [
    {
     "name": "stdout",
     "output_type": "stream",
     "text": [
      "there is no time to save the world\n"
     ]
    }
   ],
   "source": [
    "scrambled_message = \"world the save to time no is there\"\n",
    "after_split = scrambled_message.split(\" \")\n",
    "rev = after_split[::-1]\n",
    "print(\" \".join(rev))\n",
    " \n"
   ]
  },
  {
   "cell_type": "code",
   "execution_count": 1,
   "id": "6cbb2d88",
   "metadata": {},
   "outputs": [
    {
     "name": "stdout",
     "output_type": "stream",
     "text": [
      "My favorite playlist:\n",
      "1. 🎵Dancing Queen\n",
      "2. 🎸Sweet Child O' Mine\n",
      "3. 🎹Piano Man\n",
      "4. 🎤Bohemian Rhapsody\n",
      "5. 🎺All That Jazz\n"
     ]
    }
   ],
   "source": [
    "playlist = \"🎵Dancing Queen;🎸Sweet Child O' Mine;🎹Piano Man;🎤Bohemian Rhapsody;🎺All That Jazz\"\n",
    "\n",
    "split_playlist  = playlist.split(\";\")\n",
    "# print(split_playlist)\n",
    "print(\"My favorite playlist:\")\n",
    "for i in range(len(split_playlist)):\n",
    "    print(f\"{i+1}. {split_playlist[i]}\")\n"
   ]
  }
 ],
 "metadata": {
  "kernelspec": {
   "display_name": "Python 3",
   "language": "python",
   "name": "python3"
  },
  "language_info": {
   "codemirror_mode": {
    "name": "ipython",
    "version": 3
   },
   "file_extension": ".py",
   "mimetype": "text/x-python",
   "name": "python",
   "nbconvert_exporter": "python",
   "pygments_lexer": "ipython3",
   "version": "3.13.5"
  }
 },
 "nbformat": 4,
 "nbformat_minor": 5
}
