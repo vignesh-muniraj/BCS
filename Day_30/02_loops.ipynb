{
 "cells": [
  {
   "cell_type": "code",
   "execution_count": null,
   "id": "da14b654",
   "metadata": {},
   "outputs": [],
   "source": [
    "i=0\n",
    "while i<=5:\n",
    "    print(\"🔥\"*i)\n",
    "    i=i+1\n"
   ]
  },
  {
   "cell_type": "code",
   "execution_count": null,
   "id": "63d9b456",
   "metadata": {},
   "outputs": [],
   "source": [
    "for i in range(1,6):\n",
    "    print(\"🔥\"*i)"
   ]
  },
  {
   "cell_type": "code",
   "execution_count": null,
   "id": "68e9a957",
   "metadata": {},
   "outputs": [],
   "source": [
    "condition = \"Y\"\n",
    "while condition == \"Y\" :\n",
    "    n = int(input(\"Please tell the no of rows?: \"))\n",
    "    pattern = input(\"Please enter the pattern: \")\n",
    "    for i in range(1, n + 1):\n",
    "        print(pattern * i)\n",
    "    condition = input(\"Y/N\")\n"
   ]
  },
  {
   "cell_type": "code",
   "execution_count": null,
   "id": "6a5cc3a0",
   "metadata": {},
   "outputs": [],
   "source": [
    "# Task 2.1\n",
    "# Print each number in separate line with index\n",
    "\n",
    "# index:0, value: 80\n",
    "# index:1, value: 90\n",
    "# index:2, value: 100\n",
    "# index:3, value: 60\n",
    "# index:4, value: 85\n",
    "\n",
    "marks = [80, 90, 100, 60, 85]\n",
    "for i in range(0,len(marks)):\n",
    "    print(f\"index: {i}, value: {marks[i]}\")"
   ]
  },
  {
   "cell_type": "code",
   "execution_count": null,
   "id": "29b92572",
   "metadata": {},
   "outputs": [],
   "source": [
    "avengers = [\n",
    "    \"Hulk\",\n",
    "    \"Iron man\",\n",
    "    \"Black widow\",\n",
    "    \"Captain america\",\n",
    "    \"Spider man\",\n",
    "    \"Thor\",\n",
    "]\n",
    "result = []\n",
    "for i in range(0,len(avengers)):\n",
    "    result.append(len(avengers[i]))\n",
    "\n",
    "print(result)"
   ]
  },
  {
   "cell_type": "code",
   "execution_count": null,
   "id": "eedb7a29",
   "metadata": {},
   "outputs": [],
   "source": [
    "avengers = [\n",
    "    \"Hulk\",\n",
    "    \"Iron man\",\n",
    "    \"Black widow\",\n",
    "    \"Captain america\",\n",
    "    \"Spider man\",\n",
    "    \"Thor\",\n",
    "]\n",
    "result = []\n",
    "for i in range(0,len(avengers)):\n",
    "    if len(avengers[i]) > 10:\n",
    "     result.append(avengers[i])\n",
    "\n",
    "print(result)"
   ]
  },
  {
   "cell_type": "code",
   "execution_count": null,
   "id": "97474ede",
   "metadata": {},
   "outputs": [],
   "source": [
    "marks = [80, 90, 100, 60, 85]\n",
    "\n",
    "for mark in marks:\n",
    "    print(f\"value: {mark}\")"
   ]
  },
  {
   "cell_type": "code",
   "execution_count": null,
   "id": "dcb89c11",
   "metadata": {},
   "outputs": [],
   "source": [
    "avengers = [\n",
    "    \"Hulk\",\n",
    "    \"Iron man\",\n",
    "    \"Black widow\",\n",
    "    \"Captain america\",\n",
    "    \"Spider man\",\n",
    "    \"Thor\",\n",
    "]\n",
    "result = []\n",
    "for avenger in avengers:\n",
    "    if len(avenger) > 10:\n",
    "     result.append(avenger)\n",
    "\n",
    "print(result)"
   ]
  },
  {
   "cell_type": "code",
   "execution_count": null,
   "id": "c38d4917",
   "metadata": {},
   "outputs": [],
   "source": []
  }
 ],
 "metadata": {
  "kernelspec": {
   "display_name": "Python 3",
   "language": "python",
   "name": "python3"
  },
  "language_info": {
   "codemirror_mode": {
    "name": "ipython",
    "version": 3
   },
   "file_extension": ".py",
   "mimetype": "text/x-python",
   "name": "python",
   "nbconvert_exporter": "python",
   "pygments_lexer": "ipython3",
   "version": "3.13.5"
  }
 },
 "nbformat": 4,
 "nbformat_minor": 5
}
