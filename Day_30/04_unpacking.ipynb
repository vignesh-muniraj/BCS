{
 "cells": [
  {
   "cell_type": "markdown",
   "id": "6a4899ed",
   "metadata": {},
   "source": [
    "## Task 1.1 (Without Unpacking)\n",
    "\n",
    "points = [(3, 4), (6, 12) , (10, 13)]\n",
    "\n",
    " Expected Output\n",
    " distances = [5.0, 13.42, 16.4]\n",
    "\n",
    "Clue: round()"
   ]
  },
  {
   "cell_type": "code",
   "execution_count": null,
   "id": "f523629b",
   "metadata": {},
   "outputs": [],
   "source": [
    "points = [(3, 4), (6, 12) , (10, 13)]\n",
    "distance = []\n",
    "for point in points:\n",
    "    a = point[0]\n",
    "    b = point[1]\n",
    "    cal = (a**2 + b**2)**0.5\n",
    "    distance.append(round(cal,2))\n",
    "print(distance)  \n",
    "    \n"
   ]
  },
  {
   "cell_type": "markdown",
   "id": "3efaa99a",
   "metadata": {},
   "source": [
    "# with packing"
   ]
  },
  {
   "cell_type": "code",
   "execution_count": null,
   "id": "73b7f4f7",
   "metadata": {},
   "outputs": [],
   "source": [
    "points = [(3, 4), (6, 12) , (10, 13)]\n",
    "distance = []\n",
    "for a,b in points:\n",
    "    # a,b = point\n",
    "    cal = (a**2 + b**2)**0.5\n",
    "    distance.append(round(cal,2))\n",
    "print(distance)   \n",
    "    "
   ]
  },
  {
   "cell_type": "code",
   "execution_count": 45,
   "id": "cea85b71",
   "metadata": {},
   "outputs": [
    {
     "name": "stdout",
     "output_type": "stream",
     "text": [
      "['Infinite Jest', 'The Catcher in the Rye', 'Sapiens', 'A Brief History of Time', 'Clean Code']\n"
     ]
    }
   ],
   "source": [
    "books = [\n",
    "    {\"title\": \"Infinite Jest\", \"rating\": 4.5, \"genre\": \"Fiction\"},\n",
    "    {\"title\": \"The Catcher in the Rye\", \"rating\": 3.9},\n",
    "    {\"title\": \"Sapiens\", \"rating\": 4.9, \"genre\": \"History\"},\n",
    "    {\"title\": \"A Brief History of Time\", \"rating\": 4.8, \"genre\": \"Science\"},\n",
    "    {\"title\": \"Clean Code\", \"rating\": 4.7, \"genre\": \"Technology\"},\n",
    "]\n",
    "ans = []\n",
    "for item in books:\n",
    "    ans.append(item['title'])\n",
    "print(ans)"
   ]
  },
  {
   "cell_type": "code",
   "execution_count": null,
   "id": "dd4a32f6",
   "metadata": {},
   "outputs": [],
   "source": [
    "# Fiction = input(\"Please provide the only Fiction books\")\n",
    "fictions = []\n",
    "for book in books:\n",
    "   if book['genre']==\"Fiction\":\n",
    "      fictions.append(book['title'])\n",
    "print(fictions)      "
   ]
  },
  {
   "cell_type": "code",
   "execution_count": 43,
   "id": "9008de6b",
   "metadata": {},
   "outputs": [
    {
     "name": "stdout",
     "output_type": "stream",
     "text": [
      "Highest rated books are:  and [] \n"
     ]
    }
   ],
   "source": [
    "rated_books = []\n",
    "for book in books:\n",
    "    if book['rating'] >= 4.7:\n",
    "      rated_books.append(book['title'])\n",
    "\n",
    "# split_rated_books = [:len(rated_books)] \n",
    "# rated_books.insert()\n",
    "print(f\"Highest rated books are: {\", \".join(rated_books[0:len(rated_books)-1])} and {rated_books} \")     "
   ]
  },
  {
   "cell_type": "code",
   "execution_count": null,
   "id": "738f2231",
   "metadata": {},
   "outputs": [
    {
     "name": "stdout",
     "output_type": "stream",
     "text": [
      "Highest rated books is Infinite Jest\n"
     ]
    }
   ],
   "source": [
    "books = [\n",
    "  {\"title\": \"Infinite Jest\", \"rating\": 4.5, \"genre\": \"Fiction\"},\n",
    "    {\"title\": \"The Catcher in the Rye\", \"rating\": 3.9, \"genre\": \"Fiction\"},\n",
    "    {\"title\": \"Sapiens\", \"rating\": 4.9, \"genre\": \"History\"},\n",
    "    {\"title\": \"A Brief History of Time\", \"rating\": 4.8, \"genre\": \"Science\"},\n",
    "    {\"title\": \"Clean Code\", \"rating\": 4.7, \"genre\": \"Technology\"},\n",
    "]\n",
    "rated_books = []\n",
    "count =0\n",
    "for book in books:\n",
    "    if book['rating'] >= 4.7:\n",
    "      rated_books.append(book['title'])\n",
    "\n",
    "if len(rated_books ) == 1:\n",
    "    print(f\"Highest rated books is {\" \".join(rated_books)}\")    \n",
    "elif len(rated_books ) == 0:\n",
    "   print(\"The are no good books available 😔\")    \n",
    "else:\n",
    " print(f\"Highest rated books are: {\", \".join(rated_books[0:-1])} and {rated_books[-1]} \")"
   ]
  }
 ],
 "metadata": {
  "kernelspec": {
   "display_name": "Python 3",
   "language": "python",
   "name": "python3"
  },
  "language_info": {
   "codemirror_mode": {
    "name": "ipython",
    "version": 3
   },
   "file_extension": ".py",
   "mimetype": "text/x-python",
   "name": "python",
   "nbconvert_exporter": "python",
   "pygments_lexer": "ipython3",
   "version": "3.13.5"
  }
 },
 "nbformat": 4,
 "nbformat_minor": 5
}
